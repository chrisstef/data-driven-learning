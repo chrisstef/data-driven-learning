{
 "cells": [
  {
   "cell_type": "markdown",
   "metadata": {},
   "source": [
    "# Cookbook for the course\n",
    "In this Notebook, you'll find snippets of code that you'll use again and again.\n",
    "A semicolon (\";\") is used at the end of lines to supress the output and keep the Notebook compact.\n",
    "\n",
    "This cookbook is focused on data cleaning, plotting and supervised learning. Unsupervised learning (clustering), collaborative filtering and text mining can be found in the respective Notebooks.\n"
   ]
  },
  {
   "cell_type": "code",
   "execution_count": 2,
   "metadata": {},
   "outputs": [],
   "source": [
    "import seaborn as sns\n",
    "import pandas as pd\n",
    "import matplotlib.pyplot as plt\n",
    "import math"
   ]
  },
  {
   "cell_type": "markdown",
   "metadata": {},
   "source": [
    "## Reading data and summarizing"
   ]
  },
  {
   "cell_type": "code",
   "execution_count": 3,
   "metadata": {},
   "outputs": [
    {
     "data": {
      "text/html": [
       "<div>\n",
       "<style scoped>\n",
       "    .dataframe tbody tr th:only-of-type {\n",
       "        vertical-align: middle;\n",
       "    }\n",
       "\n",
       "    .dataframe tbody tr th {\n",
       "        vertical-align: top;\n",
       "    }\n",
       "\n",
       "    .dataframe thead th {\n",
       "        text-align: right;\n",
       "    }\n",
       "</style>\n",
       "<table border=\"1\" class=\"dataframe\">\n",
       "  <thead>\n",
       "    <tr style=\"text-align: right;\">\n",
       "      <th></th>\n",
       "      <th>app</th>\n",
       "      <th>category</th>\n",
       "      <th>rating</th>\n",
       "      <th>reviews</th>\n",
       "      <th>size_mb</th>\n",
       "      <th>installs</th>\n",
       "      <th>type</th>\n",
       "      <th>price</th>\n",
       "      <th>content_rating</th>\n",
       "      <th>genre</th>\n",
       "      <th>updated</th>\n",
       "      <th>version</th>\n",
       "      <th>android</th>\n",
       "    </tr>\n",
       "  </thead>\n",
       "  <tbody>\n",
       "    <tr>\n",
       "      <th>0</th>\n",
       "      <td>Samsung Calculator</td>\n",
       "      <td>TOOLS</td>\n",
       "      <td>4.4</td>\n",
       "      <td>9602</td>\n",
       "      <td>2.5</td>\n",
       "      <td>100000000</td>\n",
       "      <td>Free</td>\n",
       "      <td>0.0</td>\n",
       "      <td>Everyone</td>\n",
       "      <td>Tools</td>\n",
       "      <td>July 5, 2018</td>\n",
       "      <td>6.0.61.5</td>\n",
       "      <td>7.0 and up</td>\n",
       "    </tr>\n",
       "  </tbody>\n",
       "</table>\n",
       "</div>"
      ],
      "text/plain": [
       "                  app category  rating  reviews  size_mb   installs  type  \\\n",
       "0  Samsung Calculator    TOOLS     4.4     9602      2.5  100000000  Free   \n",
       "\n",
       "   price content_rating  genre       updated   version     android  \n",
       "0    0.0       Everyone  Tools  July 5, 2018  6.0.61.5  7.0 and up  "
      ]
     },
     "execution_count": 3,
     "metadata": {},
     "output_type": "execute_result"
    }
   ],
   "source": [
    "df = pd.read_csv(\"googleplay.csv\")\n",
    "df.describe(); #get some summary statistics\n",
    "df['rating'].value_counts(); #get a simple table of this variable\n",
    "df.head(1) #get the first rows\n"
   ]
  },
  {
   "cell_type": "markdown",
   "metadata": {},
   "source": [
    "## Data cleaning and pre-processing"
   ]
  },
  {
   "cell_type": "code",
   "execution_count": 4,
   "metadata": {},
   "outputs": [
    {
     "data": {
      "text/html": [
       "<div>\n",
       "<style scoped>\n",
       "    .dataframe tbody tr th:only-of-type {\n",
       "        vertical-align: middle;\n",
       "    }\n",
       "\n",
       "    .dataframe tbody tr th {\n",
       "        vertical-align: top;\n",
       "    }\n",
       "\n",
       "    .dataframe thead th {\n",
       "        text-align: right;\n",
       "    }\n",
       "</style>\n",
       "<table border=\"1\" class=\"dataframe\">\n",
       "  <thead>\n",
       "    <tr style=\"text-align: right;\">\n",
       "      <th></th>\n",
       "      <th>app</th>\n",
       "      <th>size_mb</th>\n",
       "      <th>category</th>\n",
       "    </tr>\n",
       "  </thead>\n",
       "  <tbody>\n",
       "    <tr>\n",
       "      <th>0</th>\n",
       "      <td>Samsung Calculator</td>\n",
       "      <td>2.5</td>\n",
       "      <td>TOOLS</td>\n",
       "    </tr>\n",
       "  </tbody>\n",
       "</table>\n",
       "</div>"
      ],
      "text/plain": [
       "                  app  size_mb category\n",
       "0  Samsung Calculator      2.5    TOOLS"
      ]
     },
     "execution_count": 4,
     "metadata": {},
     "output_type": "execute_result"
    }
   ],
   "source": [
    "#Subset the dataframe with a list of colums. Note the double [[]]\n",
    "df_a = df[['app', 'size_mb']] \n",
    "\n",
    "#Get everything up to reviews. .loc works just like Python slicing of lists: first rows, then columns.\n",
    "df_b = df.loc[:,:'category'] \n",
    "\n",
    "#Merge two data sets using a common identifier\n",
    "df_ab = pd.merge(df_a, df_b, on='app') \n",
    "df_ab.head(1)"
   ]
  },
  {
   "cell_type": "code",
   "execution_count": 5,
   "metadata": {},
   "outputs": [
    {
     "data": {
      "text/html": [
       "<div>\n",
       "<style scoped>\n",
       "    .dataframe tbody tr th:only-of-type {\n",
       "        vertical-align: middle;\n",
       "    }\n",
       "\n",
       "    .dataframe tbody tr th {\n",
       "        vertical-align: top;\n",
       "    }\n",
       "\n",
       "    .dataframe thead th {\n",
       "        text-align: right;\n",
       "    }\n",
       "</style>\n",
       "<table border=\"1\" class=\"dataframe\">\n",
       "  <thead>\n",
       "    <tr style=\"text-align: right;\">\n",
       "      <th></th>\n",
       "      <th>app</th>\n",
       "      <th>category</th>\n",
       "      <th>rating</th>\n",
       "      <th>reviews</th>\n",
       "      <th>size_mb</th>\n",
       "      <th>installs</th>\n",
       "      <th>type</th>\n",
       "      <th>price</th>\n",
       "      <th>content_rating</th>\n",
       "      <th>genre</th>\n",
       "      <th>updated</th>\n",
       "      <th>version</th>\n",
       "      <th>android</th>\n",
       "      <th>installs_log</th>\n",
       "    </tr>\n",
       "  </thead>\n",
       "  <tbody>\n",
       "    <tr>\n",
       "      <th>0</th>\n",
       "      <td>Samsung Calculator</td>\n",
       "      <td>TOOLS</td>\n",
       "      <td>4.4</td>\n",
       "      <td>9602</td>\n",
       "      <td>2.5</td>\n",
       "      <td>100000000</td>\n",
       "      <td>Free</td>\n",
       "      <td>0.0</td>\n",
       "      <td>Everyone</td>\n",
       "      <td>Tools</td>\n",
       "      <td>July 5, 2018</td>\n",
       "      <td>6.0.61.5</td>\n",
       "      <td>7.0 and up</td>\n",
       "      <td>8.0</td>\n",
       "    </tr>\n",
       "  </tbody>\n",
       "</table>\n",
       "</div>"
      ],
      "text/plain": [
       "                  app category  rating  reviews  size_mb   installs  type  \\\n",
       "0  Samsung Calculator    TOOLS     4.4     9602      2.5  100000000  Free   \n",
       "\n",
       "   price content_rating  genre       updated   version     android  \\\n",
       "0    0.0       Everyone  Tools  July 5, 2018  6.0.61.5  7.0 and up   \n",
       "\n",
       "   installs_log  \n",
       "0           8.0  "
      ]
     },
     "execution_count": 5,
     "metadata": {},
     "output_type": "execute_result"
    }
   ],
   "source": [
    "#Selecting rows based on a condition\n",
    "df_subset = df[df['rating'] > 4] #gets all the apps with ratings higher than 4\n",
    "df_subset = df[(df['rating'] > 4) & (df['type'] == 'Free')] #gets all the free apps rated higher than 4\n",
    "\n",
    "#Drop all rows with missing values.\n",
    "#Don't use this if there are a lot. Instead look on the internet for information on imputing missing values.\n",
    "df = df.dropna() #I'm actually doing this to the df because I need the df to be NA-free later on\n",
    "\n",
    "#Replacing all values (e.g. implausible/impossible) with another value\n",
    "#Define a function, then apply that function to all relevant items\n",
    "def above_5(x):\n",
    "    if(x > 5.0): \n",
    "        return float('NaN')\n",
    "    else: \n",
    "        return x\n",
    "df['rating'] = df['rating'].apply(above_5) #apply the function to all items in the column\n",
    "\n",
    "#Log transforming the skewed variable 'installs'\n",
    "#Apply the log10 function from the math library to all items in reviews\n",
    "df['installs_log'] = df['installs'].apply(math.log10)\n",
    "df.head(1)"
   ]
  },
  {
   "cell_type": "markdown",
   "metadata": {},
   "source": [
    "### Dummy variables"
   ]
  },
  {
   "cell_type": "code",
   "execution_count": 6,
   "metadata": {},
   "outputs": [
    {
     "data": {
      "text/html": [
       "<div>\n",
       "<style scoped>\n",
       "    .dataframe tbody tr th:only-of-type {\n",
       "        vertical-align: middle;\n",
       "    }\n",
       "\n",
       "    .dataframe tbody tr th {\n",
       "        vertical-align: top;\n",
       "    }\n",
       "\n",
       "    .dataframe thead th {\n",
       "        text-align: right;\n",
       "    }\n",
       "</style>\n",
       "<table border=\"1\" class=\"dataframe\">\n",
       "  <thead>\n",
       "    <tr style=\"text-align: right;\">\n",
       "      <th></th>\n",
       "      <th>Everyone</th>\n",
       "      <th>Everyone 10+</th>\n",
       "      <th>Mature 17+</th>\n",
       "      <th>Teen</th>\n",
       "    </tr>\n",
       "  </thead>\n",
       "  <tbody>\n",
       "    <tr>\n",
       "      <th>0</th>\n",
       "      <td>1</td>\n",
       "      <td>0</td>\n",
       "      <td>0</td>\n",
       "      <td>0</td>\n",
       "    </tr>\n",
       "  </tbody>\n",
       "</table>\n",
       "</div>"
      ],
      "text/plain": [
       "   Everyone  Everyone 10+  Mature 17+  Teen\n",
       "0         1             0           0     0"
      ]
     },
     "execution_count": 6,
     "metadata": {},
     "output_type": "execute_result"
    }
   ],
   "source": [
    "#Creating dummy variables of qualitative variables\n",
    "dummies = pd.get_dummies(df['content_rating'])\n",
    "dummies.head(1)"
   ]
  },
  {
   "cell_type": "code",
   "execution_count": 7,
   "metadata": {},
   "outputs": [
    {
     "data": {
      "text/html": [
       "<div>\n",
       "<style scoped>\n",
       "    .dataframe tbody tr th:only-of-type {\n",
       "        vertical-align: middle;\n",
       "    }\n",
       "\n",
       "    .dataframe tbody tr th {\n",
       "        vertical-align: top;\n",
       "    }\n",
       "\n",
       "    .dataframe thead th {\n",
       "        text-align: right;\n",
       "    }\n",
       "</style>\n",
       "<table border=\"1\" class=\"dataframe\">\n",
       "  <thead>\n",
       "    <tr style=\"text-align: right;\">\n",
       "      <th></th>\n",
       "      <th>app</th>\n",
       "      <th>category</th>\n",
       "      <th>rating</th>\n",
       "      <th>reviews</th>\n",
       "      <th>size_mb</th>\n",
       "      <th>installs</th>\n",
       "      <th>type</th>\n",
       "      <th>price</th>\n",
       "      <th>content_rating</th>\n",
       "      <th>genre</th>\n",
       "      <th>updated</th>\n",
       "      <th>version</th>\n",
       "      <th>android</th>\n",
       "      <th>installs_log</th>\n",
       "      <th>Everyone</th>\n",
       "      <th>Everyone 10+</th>\n",
       "      <th>Mature 17+</th>\n",
       "      <th>Teen</th>\n",
       "    </tr>\n",
       "  </thead>\n",
       "  <tbody>\n",
       "    <tr>\n",
       "      <th>0</th>\n",
       "      <td>Samsung Calculator</td>\n",
       "      <td>TOOLS</td>\n",
       "      <td>4.4</td>\n",
       "      <td>9602</td>\n",
       "      <td>2.5</td>\n",
       "      <td>100000000</td>\n",
       "      <td>Free</td>\n",
       "      <td>0.0</td>\n",
       "      <td>Everyone</td>\n",
       "      <td>Tools</td>\n",
       "      <td>July 5, 2018</td>\n",
       "      <td>6.0.61.5</td>\n",
       "      <td>7.0 and up</td>\n",
       "      <td>8.0</td>\n",
       "      <td>1</td>\n",
       "      <td>0</td>\n",
       "      <td>0</td>\n",
       "      <td>0</td>\n",
       "    </tr>\n",
       "  </tbody>\n",
       "</table>\n",
       "</div>"
      ],
      "text/plain": [
       "                  app category  rating  reviews  size_mb   installs  type  \\\n",
       "0  Samsung Calculator    TOOLS     4.4     9602      2.5  100000000  Free   \n",
       "\n",
       "   price content_rating  genre       updated   version     android  \\\n",
       "0    0.0       Everyone  Tools  July 5, 2018  6.0.61.5  7.0 and up   \n",
       "\n",
       "   installs_log  Everyone  Everyone 10+  Mature 17+  Teen  \n",
       "0           8.0         1             0           0     0  "
      ]
     },
     "execution_count": 7,
     "metadata": {},
     "output_type": "execute_result"
    }
   ],
   "source": [
    "#Adding dummies to the df by concatenating variables to dataframe\n",
    "df = pd.concat([df, dummies], axis=1) #the axis=1 means: add it to the columns (axis=0 is rows)\n",
    "df.head(1)"
   ]
  },
  {
   "cell_type": "markdown",
   "metadata": {},
   "source": [
    "## Pivot tables\n",
    "With pivot tables, you can easily create summaries of dataframes."
   ]
  },
  {
   "cell_type": "code",
   "execution_count": 9,
   "metadata": {},
   "outputs": [],
   "source": [
    "#Get a table of mean rating by genre\n",
    "pd.pivot_table(data=df, index='genre', values='rating');\n",
    "\n",
    "#Get a table of mean rating by genre x content_rating\n",
    "pd.pivot_table(data=df, index='genre', columns='content_rating' ,values='rating');\n",
    "\n",
    "#The mean is the standard aggregating function. However, you can use other functions like summation.\n",
    "pd.pivot_table(data=df, index='genre', columns='content_rating' ,values='reviews', aggfunc='sum');"
   ]
  },
  {
   "cell_type": "markdown",
   "metadata": {},
   "source": [
    "## Plotting\n",
    "Some useful plots. These are all commented out because Seaborn ignores the semicolons and plots the figure anyway."
   ]
  },
  {
   "cell_type": "code",
   "execution_count": 50,
   "metadata": {},
   "outputs": [],
   "source": [
    "#Distribution\n",
    "#sns.distplot(df['size_mb']) #histogram with density plot\n",
    "\n",
    "#Qualitative\n",
    "#sns.countplot(x='type', data=df) #create a bar graph with counts of variable 'type'\n",
    "\n",
    "#Qualitative x qualitative plots\n",
    "#sns.countplot(x='type', hue='content_rating', data=df) #the same bar graph, using color for content_rating\n",
    "\n",
    "#Qualitative x quantitative plots. These can also be called as sns.catplot, with kind='swarm', 'box', etc.\n",
    "#sns.swarmplot(x='rating', y='type', data=df) #plot the data as points, split out by app type (free/paid)\n",
    "#sns.swarmplot(x='rating', y='type', hue='content_rating', data=df) #same, but use color for content_rating\n",
    "#sns.boxplot(x='rating', y='type', data=df) #box plots \n",
    "#sns.violinplot(x='rating', y='type', data=df) #violin plots\n",
    "\n",
    "#Quantitative x quantitative\n",
    "#sns.pairplot(df) #scatter plot matrix\n",
    "#sns.scatterplot(x='price', y='rating', data=df) #single scatter plot\n",
    "#sns.scatterplot(x='price', y='rating', hue='content_rating', data=df) #same, but use color  for content_rating\n",
    "#sns.lmplot(x='price', y='rating', data=df) #a linear regression plot"
   ]
  },
  {
   "cell_type": "markdown",
   "metadata": {},
   "source": [
    "## Supervised learning\n",
    "\n",
    "The particular functions are different for each algorithm. However, there are many similarities in terms of code. Here, I will only show linear regression (regression) and k-learn (classification)."
   ]
  },
  {
   "cell_type": "markdown",
   "metadata": {},
   "source": [
    "### Linear regression"
   ]
  },
  {
   "cell_type": "code",
   "execution_count": 55,
   "metadata": {},
   "outputs": [],
   "source": [
    "from sklearn.linear_model import LinearRegression #the model\n",
    "from sklearn.model_selection import train_test_split #the function to split the data\n",
    "\n",
    "#Setting up the data and model\n",
    "X = df[['installs_log', 'size_mb']] #selecting the variables to go into my X matrix\n",
    "y = df['rating'] #creating the y vector\n",
    "\n",
    "#Split the data. test_size = 0.3, so I'm splitting the data into 70% training data and 30% test data\n",
    "#I'm using the subscript _l to indicate it's linear regression (using the same variable names in next block)\n",
    "X_train_l, X_test_l, y_train_l, y_test_l = train_test_split(X, y, test_size=0.3) #split the data and store it\n",
    "# The following line would do the same but would generate the same split every time (use any number for random_state)\n",
    "#X_train, X_test, y_train, y_test = train_test_split(X, y, test_size=0.3, random_state=1) \n",
    "\n",
    "lm = LinearRegression(); #create the lm object\n",
    "lm.fit(X_train_l, y_train_l); #fit the model"
   ]
  },
  {
   "cell_type": "markdown",
   "metadata": {},
   "source": [
    "### k-nearest neighbor"
   ]
  },
  {
   "cell_type": "code",
   "execution_count": 56,
   "metadata": {},
   "outputs": [],
   "source": [
    "from sklearn.neighbors import KNeighborsClassifier #the object class we need\n",
    "from sklearn.preprocessing import normalize #get the function needed to normalize our data.\n",
    "\n",
    "#Setting up the data and model\n",
    "X = df[['installs', 'rating']] #selecting the variables to go into my X matrix\n",
    "X = normalize(X) #normalize the matrix to put everything on the same scale\n",
    "y = df['type'] #creating the y vector. Type = 'paid' or 'free'\n",
    "\n",
    "#Split the data. test_size = 0.3, so I'm splitting the data into 70% training data and 30% test data\n",
    "#I'm using the subscript _k to indicate it's linear regression (using the same variable names in next block)\n",
    "X_train_k, X_test_k, y_train_k, y_test_k = train_test_split(X, y, test_size=0.3) #split the data and store it\n",
    "\n",
    "knn = KNeighborsClassifier(n_neighbors=3) #create a KNN-classifier with 2 neighbors\n",
    "knn = knn.fit(X_train_k, y_train_k)"
   ]
  },
  {
   "cell_type": "markdown",
   "metadata": {},
   "source": [
    "## Evaluating supervised learning"
   ]
  },
  {
   "cell_type": "markdown",
   "metadata": {},
   "source": [
    "### Regression"
   ]
  },
  {
   "cell_type": "code",
   "execution_count": 58,
   "metadata": {},
   "outputs": [],
   "source": [
    "from sklearn.metrics import mean_squared_error\n",
    "from sklearn.metrics import r2_score\n",
    "\n",
    "y_test_p = lm.predict(X_test_l) #get the predicted scores on the test set\n",
    "resid = y_test_p - y_test_l #residuals of the test set\n",
    "\n",
    "#R^2: proportion of variance explained\n",
    "r2_score(y_test_l, y_test_p);\n",
    "\n",
    "#RMSE: root mean square error: typical error the model makes\n",
    "math.sqrt(mean_squared_error(y_test_l, y_test_p));\n",
    "\n",
    "#Plotting the results, again commented out\n",
    "#sns.scatterplot(y_test, y_test_p) #plotting the predicted scores against the actual scores\n",
    "#sns.scatterplot(y_test, resid) #plotting the residuals against the actual scores\n"
   ]
  },
  {
   "cell_type": "markdown",
   "metadata": {},
   "source": [
    "### Classification"
   ]
  },
  {
   "cell_type": "code",
   "execution_count": 59,
   "metadata": {},
   "outputs": [],
   "source": [
    "#Get the accuracy of the model (proportion correctly predicted cases)\n",
    "knn.score(X_test, y_test);\n",
    "\n",
    "#Get the confusion matrix, from which we can calculate precision and recall for each outcome\n",
    "from sklearn.metrics import confusion_matrix\n",
    "\n",
    "y_test_p = knn.predict(X_test_k) #the predicted values\n",
    "cm = confusion_matrix(y_test_k, y_test_p) #creates a \"confusion matrix\"\n",
    "conf_matrix = pd.DataFrame(cm, index=['Free', 'Paid'], columns = ['Free', 'Paid'])"
   ]
  }
 ],
 "metadata": {
  "kernelspec": {
   "display_name": "Python 3",
   "language": "python",
   "name": "python3"
  },
  "language_info": {
   "codemirror_mode": {
    "name": "ipython",
    "version": 3
   },
   "file_extension": ".py",
   "mimetype": "text/x-python",
   "name": "python",
   "nbconvert_exporter": "python",
   "pygments_lexer": "ipython3",
   "version": "3.8.3"
  }
 },
 "nbformat": 4,
 "nbformat_minor": 2
}
